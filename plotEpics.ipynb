{
 "cells": [
  {
   "cell_type": "markdown",
   "id": "a196f1de-aeac-4e51-9f94-a6e8d17d69bc",
   "metadata": {
    "tags": []
   },
   "source": [
    "# Plotting data from GEA\n",
    "## Intro\n",
    "This is an example jupyter notebook to show how are measly python scripts can be turned into a powerful AF web tool to analyze data"
   ]
  },
  {
   "cell_type": "markdown",
   "id": "59eddc55-635f-4c94-af58-8dfccddf835d",
   "metadata": {},
   "source": [
    "## The awesome plotting library\n",
    "The developer's purpose with this library is to give the user some flexibility into how to display different plots. As a bonus, the library allows the dev to be a lazy pos that couldn't be bother to develop an actual UI, which would have been way better.\n",
    "\n",
    "The library is composed of the following scripts\n",
    " - `dataFromGea.py`\n",
    " - `inPosDataCap.py`\n",
    " - `plotEpicsData.py`"
   ]
  },
  {
   "cell_type": "code",
   "execution_count": null,
   "id": "ab800e4b-ec2f-4b3c-a3a0-cf94ae876d8a",
   "metadata": {
    "tags": []
   },
   "outputs": [],
   "source": [
    "%matplotlib ipympl\n",
    "from plotEpicsData import DataAx, DataAxePlotter\n",
    "from datetime import datetime\n",
    "import numpy as np\n",
    "import plotEpicsData as ped\n",
    "import sys"
   ]
  },
  {
   "cell_type": "code",
   "execution_count": null,
   "id": "e9ba23e2-ff01-45ad-b6a8-87ed883ff287",
   "metadata": {
    "tags": []
   },
   "outputs": [],
   "source": [
    "hdf5File = 'FT-OpsNight-230417T2200.h5'\n",
    "stime = ''\n",
    "etime = ''"
   ]
  },
  {
   "cell_type": "code",
   "execution_count": null,
   "id": "8c70af77-bcb8-47a6-bde8-b1ba8ebeb482",
   "metadata": {
    "tags": []
   },
   "outputs": [],
   "source": [
    "# Read h5 file\n",
    "recData = ped.extract_hdf5([hdf5File],\n",
    "                           stime,\n",
    "                           etime)"
   ]
  },
  {
   "cell_type": "code",
   "execution_count": null,
   "id": "331458c5-9b81-4514-8607-add70f77b442",
   "metadata": {
    "tags": []
   },
   "outputs": [],
   "source": [
    "mc_azPos = DataAx(recData['mc:azCurrentPos'],\n",
    "                  'xkcd:bright blue',\n",
    "                  label='mc:azCurrentPos',\n",
    "                  ylabel='Position [deg]',\n",
    "                  marker='o',\n",
    "                  marksize=5,\n",
    "                  linewidth=1.25)"
   ]
  },
  {
   "cell_type": "code",
   "execution_count": null,
   "id": "12610491-6ed9-4085-8e1a-c17b637da182",
   "metadata": {
    "tags": []
   },
   "outputs": [],
   "source": [
    "plts = DataAxePlotter(ncols=1)\n",
    "\n",
    "plts.Axe['c1']['mc_azPos'] = mc_azPos\n",
    "#plts.Axe['c2']['mc_azDmd'] = mc_azDmd\n",
    "#plts.Axe['c2']['mc_azPos'] = DataAx.update_axe(mc_azPos,\n",
    "#                                                   shaxname='mc_azDmd')\n",
    "#plts.Axe['c2']['mc_azPos_tcs'] = DataAx.update_axe(mc_azPos_tcs,\n",
    "#                                                   shaxname='mc_azDmd')\n",
    "#plts.Axe['c2']['mc_azPos_fllw'] = DataAx.update_axe(mc_azPos_fllw,\n",
    "#                                                   shaxname='mc_azDmd')\n",
    "# plts.Axe['c1']['mc_azPmacDmd'] = mc_azPmacDmd\n",
    "#plts.Axe['c1']['mc_azErr'] = mc_azErr\n",
    "#plts.Axe['c1']['mc_azPmacErr'] = mc_azPmacErr\n",
    "#plts.Axe['c1']['tcs_lost_dmd'] = tcs_lost_dmd\n",
    "#plts.Axe['c1']['tcs_lost_diff'] = tcs_lost_diff\n",
    "\n",
    "# plts.Axe['c2']['mc_elDmd'] = mc_elDmd\n",
    "# plts.Axe['c2']['mc_elPos'] = DataAx.update_axe(mc_elPos,\n",
    "                                                   # shaxname='mc_elDmd')\n",
    "# plts.Axe['c2']['mc_elPmacDmd'] = mc_elPmacDmd\n",
    "# plts.Axe['c2']['mc_elErr'] = mc_elErr\n",
    "# plts.Axe['c2']['mc_elPmacErr'] = mc_elPmacErr\n",
    "\n",
    "# plts.Axe['c3']['mc_trk_azerr_fft'] = mc_trk_azerr_fft\n",
    "# plts.Axe['c3']['mc_trk_elerr_fft'] = mc_trk_elerr_fft\n",
    "plts.positionPlot()\n",
    "plts.plotConfig('FR-42809 Analysis')"
   ]
  },
  {
   "cell_type": "code",
   "execution_count": null,
   "id": "74a89e83-3b16-4cdd-9cd0-9c019d3662f4",
   "metadata": {},
   "outputs": [],
   "source": []
  }
 ],
 "metadata": {
  "kernelspec": {
   "display_name": "Python 3 (ipykernel)",
   "language": "python",
   "name": "python3"
  },
  "language_info": {
   "codemirror_mode": {
    "name": "ipython",
    "version": 3
   },
   "file_extension": ".py",
   "mimetype": "text/x-python",
   "name": "python",
   "nbconvert_exporter": "python",
   "pygments_lexer": "ipython3",
   "version": "3.9.13"
  }
 },
 "nbformat": 4,
 "nbformat_minor": 5
}
