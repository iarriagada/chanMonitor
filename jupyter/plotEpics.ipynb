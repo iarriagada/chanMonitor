{
 "cells": [
  {
   "cell_type": "markdown",
   "id": "a196f1de-aeac-4e51-9f94-a6e8d17d69bc",
   "metadata": {
    "tags": []
   },
   "source": [
    "# Plotting data from GEA\n",
    "## Intro\n",
    "This is an example Jupyter Notebook to show how our hacky EPICS Data Capture and Plotting python scripts can be turned into a Powerful AF (tm) web tool to analyze data.\n",
    "\n",
    "<div class=\"alert alert-block alert-danger\">\n",
    "<b>Disclaimer!:</b> This is not meant to completely replace GEA but to be a follow-up more in-depth analysis tool.\n",
    "</div>"
   ]
  },
  {
   "cell_type": "markdown",
   "id": "59eddc55-635f-4c94-af58-8dfccddf835d",
   "metadata": {},
   "source": [
    "## The awesome Real Time EPICS data analysis module\n",
    "The developer's purpose with this module was to give the users some flexibility into how to plot and analyze data gathered from our EPICS systems.\n",
    "\n",
    "The first part of the module is the utility that allows the user to get data from GEA or directly from EPICS IOCs. GEA being our engineering archive is an extensive database compiled through times immemorial. However, being able to harvest data from IOCs for a particular test or investigation without having to configure said records in GEA (!!!) is also nice.\n",
    "\n",
    "The main script in this section, found in `./util/` is:\n",
    " - `inPosDataCap.py`\n",
    "\n",
    "The library being used by this script, found in `./lib/` is:\n",
    " - `dataFromGea.py`\n",
    " \n",
    "The second part of the module is the python library that provides the users with tools to manipulate and plot data to their hearts desire. In this library the users will find a myriad of methods/functions/utilities to filter/compare/enhance data. However, the killer functionality is the set of classes that allow for plots to be formatted and tiled without having to deal with the fun and exciting matplotlib crap (jk, matplotlib is the goat).\n",
    "All goodies are found in the python file in `./lib/`:\n",
    " - `plotEpicsData.py`\n",
    "\n",
    "<div class=\"alert alert-block alert-warning\">\n",
    "<b>Note:</b> As a bonus, the module allowed the dev to be a lazy pos that couldn't be bother to develop an actual UI, which would have been way better.\n",
    "</div>"
   ]
  },
  {
   "cell_type": "markdown",
   "id": "01ce3872-22ae-4128-8c7f-1eb23ec0eefb",
   "metadata": {},
   "source": [
    "## How to gather data\n",
    "As it was mentioned above, data can be harvested after the fact from GEA or capturing a live data stream by tapping directly into IOCs. Data is gathered using the script `inPosDataCap.py`. All data is saved by default in the `./data/` directory.\n",
    "\n",
    "The utility `inPosDataCap.py` has two modes:\n",
    " - **GEA**: This mode is enabled by the argument `gea`. In its most basic form it **reads an input text file** passed as an argument, which contains a list of EPICS channels. The data is gathered for the **time window specified by the time string input** arguments with format `yymmddTHHMM`. The user also need to specify the **site from which data is being gathered** (input argument `gs` for Gemini South and `gn` for Gemini North). The data is then returned as an __[hdf5](https://www.neonscience.org/resources/learning-hub/tutorials/about-hdf5)__ file with the default prefix `recDataGea-{start_date}`. An example command would go as follow:\n",
    "    ```\n",
    "    $ ./util/inPosDataCap.py gea gs FastTrack-chans.txt 230412T2200 230412T2300\n",
    "    \n",
    " \n",
    "    ```    \n",
    "    This would gather the data from **GEA South** for the channels in `FastTrack-chans.txt` and write it to the file `recDataGea-230412T2200.h5`. The file is saved to `./data`, since no custom dir was specified in the arguments.\n",
    "\n",
    " - **Channel Access**: This mode is enabled by the input argument `ca`. Data is collected live for the list of EPICS channels especified in the **input text file**, for the duration specified by the user (eg. -`hr 3` would set the script to capture data for 3 hours). An example command is shown below\n",
    "    ```\n",
    "    $ ./util/inPosDataCap.py ca BtO-chans.txt -min 45\n",
    "    \n",
    "    \n",
    "    ```\n",
    "    This would set CA monitors to gather data from the channels specified in `BtO-chans.txt` for 45 min after the execution of the command. Once the capture timer is done, the file `recMonCA-{date-of-execution}.h5` would be generated and stored in `./data`, as no user dir was specified."
   ]
  },
  {
   "cell_type": "code",
   "execution_count": null,
   "id": "ab800e4b-ec2f-4b3c-a3a0-cf94ae876d8a",
   "metadata": {
    "tags": []
   },
   "outputs": [],
   "source": [
    "%matplotlib ipympl\n",
    "from chanmonitor.lib.plotEpicsData import DataAx, DataAxePlotter\n",
    "import chanmonitor.lib.plotEpicsData as ped"
   ]
  },
  {
   "cell_type": "code",
   "execution_count": null,
   "id": "e9ba23e2-ff01-45ad-b6a8-87ed883ff287",
   "metadata": {
    "tags": []
   },
   "outputs": [],
   "source": [
    "hdf5File = '../data/FT-OpsNight-230417T2200.h5'\n",
    "stime = ''\n",
    "etime = ''"
   ]
  },
  {
   "cell_type": "code",
   "execution_count": null,
   "id": "8c70af77-bcb8-47a6-bde8-b1ba8ebeb482",
   "metadata": {
    "tags": []
   },
   "outputs": [],
   "source": [
    "# Read h5 file\n",
    "recData = ped.extract_hdf5([hdf5File],\n",
    "                           stime,\n",
    "                           etime)"
   ]
  },
  {
   "cell_type": "code",
   "execution_count": null,
   "id": "331458c5-9b81-4514-8607-add70f77b442",
   "metadata": {
    "tags": []
   },
   "outputs": [],
   "source": [
    "mc_azPos = DataAx(recData['mc:azCurrentPos'],\n",
    "                  'xkcd:bright blue',\n",
    "                  label='mc:azCurrentPos',git add\n",
    "                  ylabel='Position [deg]',\n",
    "                  marker='o',\n",
    "                  marksize=5,\n",
    "                  linewidth=1.25)"
   ]
  },
  {
   "cell_type": "code",
   "execution_count": null,
   "id": "12610491-6ed9-4085-8e1a-c17b637da182",
   "metadata": {
    "tags": []
   },
   "outputs": [],
   "source": [
    "plts = DataAxePlotter(ncols=1)\n",
    "\n",
    "plts.Axe['c1']['mc_azPos'] = mc_azPos\n",
    "#plts.Axe['c2']['mc_azDmd'] = mc_azDmd\n",
    "#plts.Axe['c2']['mc_azPos'] = DataAx.update_axe(mc_azPos,\n",
    "#                                                   shaxname='mc_azDmd')\n",
    "#plts.Axe['c2']['mc_azPos_tcs'] = DataAx.update_axe(mc_azPos_tcs,\n",
    "#                                                   shaxname='mc_azDmd')\n",
    "#plts.Axe['c2']['mc_azPos_fllw'] = DataAx.update_axe(mc_azPos_fllw,\n",
    "#                                                   shaxname='mc_azDmd')\n",
    "# plts.Axe['c1']['mc_azPmacDmd'] = mc_azPmacDmd\n",
    "#plts.Axe['c1']['mc_azErr'] = mc_azErr\n",
    "#plts.Axe['c1']['mc_azPmacErr'] = mc_azPmacErr\n",
    "#plts.Axe['c1']['tcs_lost_dmd'] = tcs_lost_dmd\n",
    "#plts.Axe['c1']['tcs_lost_diff'] = tcs_lost_diff\n",
    "\n",
    "# plts.Axe['c2']['mc_elDmd'] = mc_elDmd\n",
    "# plts.Axe['c2']['mc_elPos'] = DataAx.update_axe(mc_elPos,\n",
    "                                                   # shaxname='mc_elDmd')\n",
    "# plts.Axe['c2']['mc_elPmacDmd'] = mc_elPmacDmd\n",
    "# plts.Axe['c2']['mc_elErr'] = mc_elErr\n",
    "# plts.Axe['c2']['mc_elPmacErr'] = mc_elPmacErr\n",
    "\n",
    "# plts.Axe['c3']['mc_trk_azerr_fft'] = mc_trk_azerr_fft\n",
    "# plts.Axe['c3']['mc_trk_elerr_fft'] = mc_trk_elerr_fft\n",
    "plts.positionPlot()\n",
    "plts.plotConfig('FR-42809 Analysis')"
   ]
  },
  {
   "cell_type": "code",
   "execution_count": null,
   "id": "74a89e83-3b16-4cdd-9cd0-9c019d3662f4",
   "metadata": {},
   "outputs": [],
   "source": []
  }
 ],
 "metadata": {
  "kernelspec": {
   "display_name": "Python 3 (ipykernel)",
   "language": "python",
   "name": "python3"
  },
  "language_info": {
   "codemirror_mode": {
    "name": "ipython",
    "version": 3
   },
   "file_extension": ".py",
   "mimetype": "text/x-python",
   "name": "python",
   "nbconvert_exporter": "python",
   "pygments_lexer": "ipython3",
   "version": "3.9.13"
  }
 },
 "nbformat": 4,
 "nbformat_minor": 5
}
